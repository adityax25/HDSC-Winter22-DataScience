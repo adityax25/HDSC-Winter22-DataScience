{
 "cells": [
  {
   "cell_type": "code",
   "execution_count": 1,
   "metadata": {
    "ExecuteTime": {
     "end_time": "2022-01-31T13:11:57.301099Z",
     "start_time": "2022-01-31T13:11:56.847888Z"
    }
   },
   "outputs": [],
   "source": [
    "import pandas as pd\n",
    "import numpy as np"
   ]
  },
  {
   "cell_type": "code",
   "execution_count": 2,
   "metadata": {
    "ExecuteTime": {
     "end_time": "2022-01-31T13:11:57.316412Z",
     "start_time": "2022-01-31T13:11:57.302096Z"
    }
   },
   "outputs": [
    {
     "data": {
      "text/plain": [
       "0       Monday\n",
       "1      Tuesday\n",
       "2    Wednesday\n",
       "dtype: object"
      ]
     },
     "execution_count": 2,
     "metadata": {},
     "output_type": "execute_result"
    }
   ],
   "source": [
    "days = pd.Series([\"Monday\", \"Tuesday\", \"Wednesday\"])\n",
    "days"
   ]
  },
  {
   "cell_type": "code",
   "execution_count": 3,
   "metadata": {
    "ExecuteTime": {
     "end_time": "2022-01-31T13:11:57.332446Z",
     "start_time": "2022-01-31T13:11:57.319378Z"
    }
   },
   "outputs": [
    {
     "data": {
      "text/plain": [
       "0       Monday\n",
       "1      Tuesday\n",
       "2    Wednesday\n",
       "dtype: object"
      ]
     },
     "execution_count": 3,
     "metadata": {},
     "output_type": "execute_result"
    }
   ],
   "source": [
    "days_list = np.array([\"Monday\", \"Tuesday\", \"Wednesday\"])\n",
    "numpy_days = pd.Series(days_list)\n",
    "numpy_days"
   ]
  },
  {
   "cell_type": "code",
   "execution_count": 4,
   "metadata": {
    "ExecuteTime": {
     "end_time": "2022-01-31T13:11:57.348338Z",
     "start_time": "2022-01-31T13:11:57.334339Z"
    }
   },
   "outputs": [
    {
     "data": {
      "text/plain": [
       "a    Thursday\n",
       "b      Friday\n",
       "c    Saturday\n",
       "d      Sunday\n",
       "dtype: object"
      ]
     },
     "execution_count": 4,
     "metadata": {},
     "output_type": "execute_result"
    }
   ],
   "source": [
    "days_index = pd.Series([\"Thursday\", \"Friday\", \"Saturday\", \"Sunday\"], index=[\"a\", \"b\", \"c\", \"d\"])\n",
    "days_index"
   ]
  },
  {
   "cell_type": "code",
   "execution_count": 5,
   "metadata": {
    "ExecuteTime": {
     "end_time": "2022-01-31T13:11:57.363260Z",
     "start_time": "2022-01-31T13:11:57.349298Z"
    }
   },
   "outputs": [
    {
     "data": {
      "text/plain": [
       "a    Thursday\n",
       "b      Friday\n",
       "c    Saturday\n",
       "d      Sunday\n",
       "dtype: object"
      ]
     },
     "execution_count": 5,
     "metadata": {},
     "output_type": "execute_result"
    }
   ],
   "source": [
    "days_dict = pd.Series({\"a\":\"Thursday\", \"b\": \"Friday\", \"c\": \"Saturday\", \"d\": \"Sunday\"})\n",
    "days_dict"
   ]
  },
  {
   "cell_type": "code",
   "execution_count": 6,
   "metadata": {
    "ExecuteTime": {
     "end_time": "2022-01-31T13:11:57.379218Z",
     "start_time": "2022-01-31T13:11:57.364259Z"
    }
   },
   "outputs": [
    {
     "data": {
      "text/plain": [
       "'Thursday'"
      ]
     },
     "execution_count": 6,
     "metadata": {},
     "output_type": "execute_result"
    }
   ],
   "source": [
    "days_index[0]"
   ]
  },
  {
   "cell_type": "code",
   "execution_count": 7,
   "metadata": {
    "ExecuteTime": {
     "end_time": "2022-01-31T13:11:57.395176Z",
     "start_time": "2022-01-31T13:11:57.380214Z"
    }
   },
   "outputs": [
    {
     "data": {
      "text/plain": [
       "a    Thursday\n",
       "b      Friday\n",
       "c    Saturday\n",
       "dtype: object"
      ]
     },
     "execution_count": 7,
     "metadata": {},
     "output_type": "execute_result"
    }
   ],
   "source": [
    "days_index[0:3]"
   ]
  },
  {
   "cell_type": "code",
   "execution_count": 8,
   "metadata": {
    "ExecuteTime": {
     "end_time": "2022-01-31T13:11:57.411163Z",
     "start_time": "2022-01-31T13:11:57.397171Z"
    }
   },
   "outputs": [
    {
     "data": {
      "text/plain": [
       "c    Saturday\n",
       "d      Sunday\n",
       "dtype: object"
      ]
     },
     "execution_count": 8,
     "metadata": {},
     "output_type": "execute_result"
    }
   ],
   "source": [
    "days_index[2:]"
   ]
  },
  {
   "cell_type": "code",
   "execution_count": 9,
   "metadata": {
    "ExecuteTime": {
     "end_time": "2022-01-31T13:11:57.427090Z",
     "start_time": "2022-01-31T13:11:57.414125Z"
    }
   },
   "outputs": [
    {
     "data": {
      "text/plain": [
       "'Sunday'"
      ]
     },
     "execution_count": 9,
     "metadata": {},
     "output_type": "execute_result"
    }
   ],
   "source": [
    "days_index['d']"
   ]
  },
  {
   "cell_type": "code",
   "execution_count": 10,
   "metadata": {
    "ExecuteTime": {
     "end_time": "2022-01-31T13:11:57.443048Z",
     "start_time": "2022-01-31T13:11:57.429088Z"
    }
   },
   "outputs": [
    {
     "data": {
      "text/plain": [
       "d      Sunday\n",
       "c    Saturday\n",
       "b      Friday\n",
       "a    Thursday\n",
       "dtype: object"
      ]
     },
     "execution_count": 10,
     "metadata": {},
     "output_type": "execute_result"
    }
   ],
   "source": [
    "days_index[::-1]"
   ]
  },
  {
   "cell_type": "code",
   "execution_count": 11,
   "metadata": {
    "ExecuteTime": {
     "end_time": "2022-01-31T13:11:57.459040Z",
     "start_time": "2022-01-31T13:11:57.444045Z"
    }
   },
   "outputs": [
    {
     "name": "stdout",
     "output_type": "stream",
     "text": [
      "Empty DataFrame\n",
      "Columns: []\n",
      "Index: []\n"
     ]
    }
   ],
   "source": [
    "print(pd.DataFrame())"
   ]
  },
  {
   "cell_type": "code",
   "execution_count": 12,
   "metadata": {
    "ExecuteTime": {
     "end_time": "2022-01-31T13:11:57.474996Z",
     "start_time": "2022-01-31T13:11:57.461000Z"
    }
   },
   "outputs": [],
   "source": [
    "df_dict = {\n",
    "    'Name': ['Aditya', 'Tavisha', 'Vishal'],\n",
    "    'Age': [20, 17, 20],\n",
    "    'Gender': ['Male', 'Female', 'Male']\n",
    "}"
   ]
  },
  {
   "cell_type": "code",
   "execution_count": 13,
   "metadata": {
    "ExecuteTime": {
     "end_time": "2022-01-31T13:11:57.489952Z",
     "start_time": "2022-01-31T13:11:57.475959Z"
    }
   },
   "outputs": [
    {
     "data": {
      "text/html": [
       "<div>\n",
       "<style scoped>\n",
       "    .dataframe tbody tr th:only-of-type {\n",
       "        vertical-align: middle;\n",
       "    }\n",
       "\n",
       "    .dataframe tbody tr th {\n",
       "        vertical-align: top;\n",
       "    }\n",
       "\n",
       "    .dataframe thead th {\n",
       "        text-align: right;\n",
       "    }\n",
       "</style>\n",
       "<table border=\"1\" class=\"dataframe\">\n",
       "  <thead>\n",
       "    <tr style=\"text-align: right;\">\n",
       "      <th></th>\n",
       "      <th>Name</th>\n",
       "      <th>Age</th>\n",
       "      <th>Gender</th>\n",
       "    </tr>\n",
       "  </thead>\n",
       "  <tbody>\n",
       "    <tr>\n",
       "      <th>1</th>\n",
       "      <td>Aditya</td>\n",
       "      <td>20</td>\n",
       "      <td>Male</td>\n",
       "    </tr>\n",
       "    <tr>\n",
       "      <th>2</th>\n",
       "      <td>Tavisha</td>\n",
       "      <td>17</td>\n",
       "      <td>Female</td>\n",
       "    </tr>\n",
       "    <tr>\n",
       "      <th>3</th>\n",
       "      <td>Vishal</td>\n",
       "      <td>20</td>\n",
       "      <td>Male</td>\n",
       "    </tr>\n",
       "  </tbody>\n",
       "</table>\n",
       "</div>"
      ],
      "text/plain": [
       "      Name  Age  Gender\n",
       "1   Aditya   20    Male\n",
       "2  Tavisha   17  Female\n",
       "3   Vishal   20    Male"
      ]
     },
     "execution_count": 13,
     "metadata": {},
     "output_type": "execute_result"
    }
   ],
   "source": [
    "df1 = pd.DataFrame(df_dict, index=[1, 2, 3])\n",
    "df1"
   ]
  },
  {
   "cell_type": "code",
   "execution_count": 14,
   "metadata": {
    "ExecuteTime": {
     "end_time": "2022-01-31T13:11:57.505878Z",
     "start_time": "2022-01-31T13:11:57.490920Z"
    }
   },
   "outputs": [],
   "source": [
    "df_list = [['Aditya', 20, 'Male'],\n",
    "           ['Tavisha', 17, 'Female'],\n",
    "           ['Vishal', 20, 'Male']]"
   ]
  },
  {
   "cell_type": "code",
   "execution_count": 15,
   "metadata": {
    "ExecuteTime": {
     "end_time": "2022-01-31T13:11:57.521875Z",
     "start_time": "2022-01-31T13:11:57.506876Z"
    }
   },
   "outputs": [
    {
     "data": {
      "text/html": [
       "<div>\n",
       "<style scoped>\n",
       "    .dataframe tbody tr th:only-of-type {\n",
       "        vertical-align: middle;\n",
       "    }\n",
       "\n",
       "    .dataframe tbody tr th {\n",
       "        vertical-align: top;\n",
       "    }\n",
       "\n",
       "    .dataframe thead th {\n",
       "        text-align: right;\n",
       "    }\n",
       "</style>\n",
       "<table border=\"1\" class=\"dataframe\">\n",
       "  <thead>\n",
       "    <tr style=\"text-align: right;\">\n",
       "      <th></th>\n",
       "      <th>Name</th>\n",
       "      <th>Age</th>\n",
       "      <th>Gender</th>\n",
       "    </tr>\n",
       "  </thead>\n",
       "  <tbody>\n",
       "    <tr>\n",
       "      <th>1</th>\n",
       "      <td>Aditya</td>\n",
       "      <td>20</td>\n",
       "      <td>Male</td>\n",
       "    </tr>\n",
       "    <tr>\n",
       "      <th>2</th>\n",
       "      <td>Tavisha</td>\n",
       "      <td>17</td>\n",
       "      <td>Female</td>\n",
       "    </tr>\n",
       "    <tr>\n",
       "      <th>3</th>\n",
       "      <td>Vishal</td>\n",
       "      <td>20</td>\n",
       "      <td>Male</td>\n",
       "    </tr>\n",
       "  </tbody>\n",
       "</table>\n",
       "</div>"
      ],
      "text/plain": [
       "      Name  Age  Gender\n",
       "1   Aditya   20    Male\n",
       "2  Tavisha   17  Female\n",
       "3   Vishal   20    Male"
      ]
     },
     "execution_count": 15,
     "metadata": {},
     "output_type": "execute_result"
    }
   ],
   "source": [
    "df2 = pd.DataFrame(df_list, index=[1, 2, 3], columns=['Name', 'Age', 'Gender'])\n",
    "df2"
   ]
  },
  {
   "cell_type": "code",
   "execution_count": 16,
   "metadata": {
    "ExecuteTime": {
     "end_time": "2022-01-31T13:11:57.537827Z",
     "start_time": "2022-01-31T13:11:57.522833Z"
    }
   },
   "outputs": [
    {
     "data": {
      "text/plain": [
       "Name      Aditya\n",
       "Age           20\n",
       "Gender      Male\n",
       "Name: 1, dtype: object"
      ]
     },
     "execution_count": 16,
     "metadata": {},
     "output_type": "execute_result"
    }
   ],
   "source": [
    "df2.iloc[0] # Using default index"
   ]
  },
  {
   "cell_type": "code",
   "execution_count": 17,
   "metadata": {
    "ExecuteTime": {
     "end_time": "2022-01-31T13:11:57.553753Z",
     "start_time": "2022-01-31T13:11:57.538791Z"
    }
   },
   "outputs": [
    {
     "data": {
      "text/plain": [
       "Name      Tavisha\n",
       "Age            17\n",
       "Gender     Female\n",
       "Name: 2, dtype: object"
      ]
     },
     "execution_count": 17,
     "metadata": {},
     "output_type": "execute_result"
    }
   ],
   "source": [
    "df2.iloc[1]"
   ]
  },
  {
   "cell_type": "code",
   "execution_count": 18,
   "metadata": {
    "ExecuteTime": {
     "end_time": "2022-01-31T13:11:57.569712Z",
     "start_time": "2022-01-31T13:11:57.554749Z"
    }
   },
   "outputs": [
    {
     "data": {
      "text/plain": [
       "Name      Vishal\n",
       "Age           20\n",
       "Gender      Male\n",
       "Name: 3, dtype: object"
      ]
     },
     "execution_count": 18,
     "metadata": {},
     "output_type": "execute_result"
    }
   ],
   "source": [
    "df2.iloc[2]"
   ]
  },
  {
   "cell_type": "code",
   "execution_count": 19,
   "metadata": {
    "ExecuteTime": {
     "end_time": "2022-01-31T13:11:57.585680Z",
     "start_time": "2022-01-31T13:11:57.570707Z"
    }
   },
   "outputs": [
    {
     "data": {
      "text/plain": [
       "Name      Aditya\n",
       "Age           20\n",
       "Gender      Male\n",
       "Name: 1, dtype: object"
      ]
     },
     "execution_count": 19,
     "metadata": {},
     "output_type": "execute_result"
    }
   ],
   "source": [
    "df2.loc[1] # Using explicitly defined index or label"
   ]
  },
  {
   "cell_type": "code",
   "execution_count": 20,
   "metadata": {
    "ExecuteTime": {
     "end_time": "2022-01-31T13:11:57.601630Z",
     "start_time": "2022-01-31T13:11:57.587660Z"
    }
   },
   "outputs": [
    {
     "data": {
      "text/plain": [
       "Name      Tavisha\n",
       "Age            17\n",
       "Gender     Female\n",
       "Name: 2, dtype: object"
      ]
     },
     "execution_count": 20,
     "metadata": {},
     "output_type": "execute_result"
    }
   ],
   "source": [
    "df2.loc[2]"
   ]
  },
  {
   "cell_type": "code",
   "execution_count": 21,
   "metadata": {
    "ExecuteTime": {
     "end_time": "2022-01-31T13:11:57.617580Z",
     "start_time": "2022-01-31T13:11:57.603618Z"
    }
   },
   "outputs": [
    {
     "data": {
      "text/plain": [
       "Name      Vishal\n",
       "Age           20\n",
       "Gender      Male\n",
       "Name: 3, dtype: object"
      ]
     },
     "execution_count": 21,
     "metadata": {},
     "output_type": "execute_result"
    }
   ],
   "source": [
    "df2.loc[3]"
   ]
  },
  {
   "cell_type": "code",
   "execution_count": 22,
   "metadata": {
    "ExecuteTime": {
     "end_time": "2022-01-31T13:11:57.633577Z",
     "start_time": "2022-01-31T13:11:57.619582Z"
    }
   },
   "outputs": [
    {
     "name": "stdout",
     "output_type": "stream",
     "text": [
      "Aditya\n",
      "20\n",
      "Male\n",
      "Tavisha\n",
      "17\n",
      "Female\n",
      "Vishal\n",
      "20\n",
      "Male\n"
     ]
    }
   ],
   "source": [
    "print(df2.iat[0, 0]) # Using default index \n",
    "print(df2.iat[0, 1])\n",
    "print(df2.iat[0, 2])\n",
    "print(df2.iat[1, 0])\n",
    "print(df2.iat[1, 1])\n",
    "print(df2.iat[1, 2])\n",
    "print(df2.iat[2, 0])\n",
    "print(df2.iat[2, 1])\n",
    "print(df2.iat[2, 2])"
   ]
  },
  {
   "cell_type": "code",
   "execution_count": 23,
   "metadata": {
    "ExecuteTime": {
     "end_time": "2022-01-31T13:11:57.649522Z",
     "start_time": "2022-01-31T13:11:57.640520Z"
    }
   },
   "outputs": [
    {
     "name": "stdout",
     "output_type": "stream",
     "text": [
      "Aditya\n",
      "20\n",
      "Male\n",
      "Tavisha\n",
      "17\n",
      "Female\n",
      "Vishal\n",
      "20\n",
      "Male\n"
     ]
    }
   ],
   "source": [
    "print(df2.at[1, 'Name']) # Using explicitly defined index or labels\n",
    "print(df2.at[1, 'Age'])\n",
    "print(df2.at[1, 'Gender'])\n",
    "print(df2.at[2, 'Name'])\n",
    "print(df2.at[2, 'Age'])\n",
    "print(df2.at[2, 'Gender'])\n",
    "print(df2.at[3, 'Name'])\n",
    "print(df2.at[3, 'Age'])\n",
    "print(df2.at[3, 'Gender'])"
   ]
  },
  {
   "cell_type": "code",
   "execution_count": 24,
   "metadata": {
    "ExecuteTime": {
     "end_time": "2022-01-31T13:11:57.681447Z",
     "start_time": "2022-01-31T13:11:57.653486Z"
    }
   },
   "outputs": [
    {
     "data": {
      "text/html": [
       "<div>\n",
       "<style scoped>\n",
       "    .dataframe tbody tr th:only-of-type {\n",
       "        vertical-align: middle;\n",
       "    }\n",
       "\n",
       "    .dataframe tbody tr th {\n",
       "        vertical-align: top;\n",
       "    }\n",
       "\n",
       "    .dataframe thead th {\n",
       "        text-align: right;\n",
       "    }\n",
       "</style>\n",
       "<table border=\"1\" class=\"dataframe\">\n",
       "  <thead>\n",
       "    <tr style=\"text-align: right;\">\n",
       "      <th></th>\n",
       "      <th>Age</th>\n",
       "    </tr>\n",
       "  </thead>\n",
       "  <tbody>\n",
       "    <tr>\n",
       "      <th>count</th>\n",
       "      <td>3.000000</td>\n",
       "    </tr>\n",
       "    <tr>\n",
       "      <th>mean</th>\n",
       "      <td>19.000000</td>\n",
       "    </tr>\n",
       "    <tr>\n",
       "      <th>std</th>\n",
       "      <td>1.732051</td>\n",
       "    </tr>\n",
       "    <tr>\n",
       "      <th>min</th>\n",
       "      <td>17.000000</td>\n",
       "    </tr>\n",
       "    <tr>\n",
       "      <th>25%</th>\n",
       "      <td>18.500000</td>\n",
       "    </tr>\n",
       "    <tr>\n",
       "      <th>50%</th>\n",
       "      <td>20.000000</td>\n",
       "    </tr>\n",
       "    <tr>\n",
       "      <th>75%</th>\n",
       "      <td>20.000000</td>\n",
       "    </tr>\n",
       "    <tr>\n",
       "      <th>max</th>\n",
       "      <td>20.000000</td>\n",
       "    </tr>\n",
       "  </tbody>\n",
       "</table>\n",
       "</div>"
      ],
      "text/plain": [
       "             Age\n",
       "count   3.000000\n",
       "mean   19.000000\n",
       "std     1.732051\n",
       "min    17.000000\n",
       "25%    18.500000\n",
       "50%    20.000000\n",
       "75%    20.000000\n",
       "max    20.000000"
      ]
     },
     "execution_count": 24,
     "metadata": {},
     "output_type": "execute_result"
    }
   ],
   "source": [
    "df2.describe()"
   ]
  },
  {
   "cell_type": "code",
   "execution_count": null,
   "metadata": {},
   "outputs": [],
   "source": []
  }
 ],
 "metadata": {
  "hide_input": false,
  "kernelspec": {
   "display_name": "Python 3",
   "language": "python",
   "name": "python3"
  },
  "language_info": {
   "codemirror_mode": {
    "name": "ipython",
    "version": 3
   },
   "file_extension": ".py",
   "mimetype": "text/x-python",
   "name": "python",
   "nbconvert_exporter": "python",
   "pygments_lexer": "ipython3",
   "version": "3.8.5"
  },
  "varInspector": {
   "cols": {
    "lenName": 16,
    "lenType": 16,
    "lenVar": 40
   },
   "kernels_config": {
    "python": {
     "delete_cmd_postfix": "",
     "delete_cmd_prefix": "del ",
     "library": "var_list.py",
     "varRefreshCmd": "print(var_dic_list())"
    },
    "r": {
     "delete_cmd_postfix": ") ",
     "delete_cmd_prefix": "rm(",
     "library": "var_list.r",
     "varRefreshCmd": "cat(var_dic_list()) "
    }
   },
   "types_to_exclude": [
    "module",
    "function",
    "builtin_function_or_method",
    "instance",
    "_Feature"
   ],
   "window_display": false
  }
 },
 "nbformat": 4,
 "nbformat_minor": 4
}
